{
 "cells": [
  {
   "cell_type": "markdown",
   "source": [
    "# Reinforcement Learning Evaluation"
   ],
   "metadata": {
    "collapsed": false
   },
   "id": "4a4092a6d709189d"
  },
  {
   "cell_type": "markdown",
   "source": [
    "## Training Curve\n"
   ],
   "metadata": {
    "collapsed": false
   },
   "id": "5c64c5d787c2b060"
  },
  {
   "cell_type": "code",
   "outputs": [],
   "source": [
    "import seaborn as sns\n",
    "import matplotlib.pyplot as plt\n",
    "%matplotlib inline\n",
    "#TODO : import data\n"
   ],
   "metadata": {
    "collapsed": false,
    "ExecuteTime": {
     "end_time": "2024-01-16T20:45:02.653915Z",
     "start_time": "2024-01-16T20:45:02.651625Z"
    }
   },
   "id": "772bc18d6129e87c",
   "execution_count": 2
  }
 ],
 "metadata": {
  "kernelspec": {
   "display_name": "Python 3",
   "language": "python",
   "name": "python3"
  },
  "language_info": {
   "codemirror_mode": {
    "name": "ipython",
    "version": 2
   },
   "file_extension": ".py",
   "mimetype": "text/x-python",
   "name": "python",
   "nbconvert_exporter": "python",
   "pygments_lexer": "ipython2",
   "version": "2.7.6"
  }
 },
 "nbformat": 4,
 "nbformat_minor": 5
}
